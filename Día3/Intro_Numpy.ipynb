{
 "cells": [
  {
   "cell_type": "markdown",
   "id": "97c166d6-5201-45cc-96c7-f2197902b911",
   "metadata": {
    "id": "97c166d6-5201-45cc-96c7-f2197902b911"
   },
   "source": [
    "# Introducción a NumPy\n",
    "\n",
    "NumPy es una biblioteca fundamental para la computación científica en Python. Proporciona estructuras de datos eficientes y funcionalidad matemática para trabajar con arrays multidimensionales.\n",
    "\n",
    "En este notebook, exploraremos los conceptos básicos de NumPy, incluyendo cómo crear arrays, realizar operaciones matemáticas y manipular datos.\n",
    "\n",
    "## Contenido\n",
    "\n",
    "1. Instalación\n",
    "2. Importación de NumPy\n",
    "3. Creación de Arrays\n",
    "   - Arrays desde listas\n",
    "   - Arrays con valores inicializados\n",
    "4. Atributos de los Arrays\n",
    "5. Operaciones Básicas\n",
    "6. Indexación y Slicing\n",
    "7. Manipulación de Arrays\n",
    "   - Redimensionamiento\n",
    "   - Concatenación y Apilamiento\n",
    "8. Funciones Universales (ufuncs)\n",
    "9. Operaciones Estadísticas\n",
    "10. Máscaras y Filtros\n",
    "11. Conclusión\n"
   ]
  },
  {
   "cell_type": "markdown",
   "id": "22c45459-3ac5-4e36-a49b-0f52fc01845e",
   "metadata": {
    "id": "22c45459-3ac5-4e36-a49b-0f52fc01845e"
   },
   "source": [
    "## Instalación\n",
    "\n",
    "Si aún no tienes NumPy instalado, puedes instalarlo utilizando `pip`:\n",
    "\n",
    "```bash\n",
    "pip install numpy"
   ]
  },
  {
   "cell_type": "code",
   "execution_count": null,
   "id": "216b1eca-9741-4797-9c6f-b855afd49c65",
   "metadata": {
    "id": "216b1eca-9741-4797-9c6f-b855afd49c65"
   },
   "outputs": [],
   "source": [
    "import numpy as np"
   ]
  },
  {
   "cell_type": "markdown",
   "id": "b7b73d95-1ff3-4350-a684-9f12afcfd082",
   "metadata": {
    "id": "b7b73d95-1ff3-4350-a684-9f12afcfd082"
   },
   "source": [
    "## Creación de Arrays\n",
    "\n",
    "### Arrays desde listas\n",
    "\n",
    "Puedes crear un array de NumPy a partir de una lista de Python usando la función `np.array()`."
   ]
  },
  {
   "cell_type": "code",
   "execution_count": null,
   "id": "93045bce-f025-4438-8815-b738ca240c07",
   "metadata": {
    "id": "93045bce-f025-4438-8815-b738ca240c07",
    "outputId": "cfa70847-7660-4bfd-c027-2ccd78ab45a6"
   },
   "outputs": [
    {
     "name": "stdout",
     "output_type": "stream",
     "text": [
      "[1 2 3 4 5]\n"
     ]
    }
   ],
   "source": [
    "# Lista de Python\n",
    "lista = [1, 2, 3, 4, 5]\n",
    "\n",
    "# Convertir a array de NumPy\n",
    "arr = np.array(lista)\n",
    "\n",
    "print(arr)"
   ]
  },
  {
   "cell_type": "code",
   "execution_count": null,
   "id": "0f75d3e1-893a-434a-953e-e007f5b3e7e9",
   "metadata": {
    "id": "0f75d3e1-893a-434a-953e-e007f5b3e7e9",
    "outputId": "a0bbffbf-5cf3-4533-fc5f-9e13017e176d"
   },
   "outputs": [
    {
     "data": {
      "text/plain": [
       "array([[False, False,  True],\n",
       "       [ True,  True,  True]])"
      ]
     },
     "execution_count": 16,
     "metadata": {},
     "output_type": "execute_result"
    }
   ],
   "source": [
    "arr2 = np.array([[1, 2, 3], [4, 5, 6]])\n",
    "\n",
    "arr2.__gt__(2)"
   ]
  },
  {
   "cell_type": "markdown",
   "id": "557e1d8a-4a05-4d9a-94f1-7d40e2181d98",
   "metadata": {
    "id": "557e1d8a-4a05-4d9a-94f1-7d40e2181d98"
   },
   "source": [
    "Arrays con valores inicializados\n",
    "NumPy proporciona funciones para crear arrays con valores iniciales específicos:\n",
    "\n",
    "* np.zeros(shape): Crea un array lleno de ceros.\n",
    "* np.ones(shape): Crea un array lleno de unos.\n",
    "* np.full(shape, fill_value): Crea un array lleno de un valor específico.\n",
    "* np.eye(N): Crea una matriz identidad de tamaño N.\n",
    "* np.random.rand(shape): Crea un array con valores aleatorios entre 0 y 1."
   ]
  },
  {
   "cell_type": "code",
   "execution_count": null,
   "id": "1f64fb70-da0e-46e1-8bfe-5ffea168b3c2",
   "metadata": {
    "id": "1f64fb70-da0e-46e1-8bfe-5ffea168b3c2",
    "outputId": "ce11f49e-4449-4367-e261-5854a8fb4ee2"
   },
   "outputs": [
    {
     "name": "stdout",
     "output_type": "stream",
     "text": [
      "Array de ceros:\n",
      " [[0. 0. 0.]\n",
      " [0. 0. 0.]]\n"
     ]
    }
   ],
   "source": [
    "# Array de ceros\n",
    "ceros = np.zeros((2, 3))\n",
    "print(\"Array de ceros:\\n\", ceros)"
   ]
  },
  {
   "cell_type": "code",
   "execution_count": null,
   "id": "5fb1dc5b-8296-46cb-9ca6-128539166da8",
   "metadata": {
    "id": "5fb1dc5b-8296-46cb-9ca6-128539166da8",
    "outputId": "1dc4bd2c-ed59-4174-e952-c46788949823"
   },
   "outputs": [
    {
     "name": "stdout",
     "output_type": "stream",
     "text": [
      "Array de unos:\n",
      " [[1. 1.]\n",
      " [1. 1.]\n",
      " [1. 1.]]\n"
     ]
    }
   ],
   "source": [
    "# Array de unos\n",
    "unos = np.ones((3, 2))\n",
    "print(\"Array de unos:\\n\", unos)"
   ]
  },
  {
   "cell_type": "code",
   "execution_count": null,
   "id": "d6306b83-a21e-4884-9252-7c438394cd19",
   "metadata": {
    "id": "d6306b83-a21e-4884-9252-7c438394cd19"
   },
   "outputs": [],
   "source": [
    "unosInt = unos.astype('int16')"
   ]
  },
  {
   "cell_type": "code",
   "execution_count": null,
   "id": "dea7f8ff-8019-4420-ac28-d35e361623df",
   "metadata": {
    "id": "dea7f8ff-8019-4420-ac28-d35e361623df",
    "outputId": "25c44416-9c56-47da-dfd5-51e00d77c1d9"
   },
   "outputs": [
    {
     "data": {
      "text/plain": [
       "array([[1, 1],\n",
       "       [1, 1],\n",
       "       [1, 1]], dtype=int16)"
      ]
     },
     "execution_count": 26,
     "metadata": {},
     "output_type": "execute_result"
    }
   ],
   "source": [
    "unosInt"
   ]
  },
  {
   "cell_type": "code",
   "execution_count": null,
   "id": "c2ff1736-ed10-4fc6-8028-6dfd2194cc07",
   "metadata": {
    "id": "c2ff1736-ed10-4fc6-8028-6dfd2194cc07",
    "outputId": "60b18cc2-3847-4b50-9351-39d0056aeb70"
   },
   "outputs": [
    {
     "name": "stdout",
     "output_type": "stream",
     "text": [
      "Matriz identidad:\n",
      " [[1. 0. 0. 0.]\n",
      " [0. 1. 0. 0.]\n",
      " [0. 0. 1. 0.]\n",
      " [0. 0. 0. 1.]]\n"
     ]
    }
   ],
   "source": [
    "# Matriz identidad\n",
    "identidad = np.eye(4)\n",
    "print(\"Matriz identidad:\\n\", identidad)"
   ]
  },
  {
   "cell_type": "code",
   "execution_count": null,
   "id": "0ce7e3be-724e-442b-9ab9-c516dafee86c",
   "metadata": {
    "id": "0ce7e3be-724e-442b-9ab9-c516dafee86c",
    "outputId": "f45b02fd-d149-4933-a6b1-d9df103a69e8"
   },
   "outputs": [
    {
     "name": "stdout",
     "output_type": "stream",
     "text": [
      "Array aleatorio:\n",
      " [[0.91923048 0.15856648]\n",
      " [0.04528748 0.11008246]]\n"
     ]
    }
   ],
   "source": [
    "# Array aleatorio\n",
    "aleatorio = np.random.rand(2, 2)\n",
    "print(\"Array aleatorio:\\n\", aleatorio)"
   ]
  },
  {
   "cell_type": "markdown",
   "id": "89fb87e2-899e-4b72-bed7-ba86168acbb4",
   "metadata": {
    "id": "89fb87e2-899e-4b72-bed7-ba86168acbb4"
   },
   "source": [
    "## Atributos de los Arrays\n",
    "\n",
    "### Los arrays de NumPy tienen varios atributos útiles:\n",
    "\n",
    "+ ndarray.ndim: Número de dimensiones.\n",
    "+ ndarray.shape: Dimensiones del array.\n",
    "+ ndarray.size: Número total de elementos.\n",
    "+ ndarray.dtype: Tipo de dato de los elementos."
   ]
  },
  {
   "cell_type": "code",
   "execution_count": null,
   "id": "45412c45-880a-4b97-b058-ec16fc20de38",
   "metadata": {
    "id": "45412c45-880a-4b97-b058-ec16fc20de38",
    "outputId": "20b8d816-418c-43b9-dbe3-45f367278609"
   },
   "outputs": [
    {
     "name": "stdout",
     "output_type": "stream",
     "text": [
      "Array:\n",
      " [[1 2 3]\n",
      " [4 5 6]]\n",
      "Número de dimensiones: 2\n",
      "Forma: (2, 3)\n",
      "Tamaño total: 6\n",
      "Tipo de dato: int64\n"
     ]
    }
   ],
   "source": [
    "arr = np.array([[1, 2, 3], [4, 5, 6]])\n",
    "\n",
    "print(\"Array:\\n\", arr)\n",
    "print(\"Número de dimensiones:\", arr.ndim)\n",
    "print(\"Forma:\", arr.shape)\n",
    "print(\"Tamaño total:\", arr.size)\n",
    "print(\"Tipo de dato:\", arr.dtype)"
   ]
  },
  {
   "cell_type": "markdown",
   "id": "cdc79ae8-33a9-4bf1-a471-496b3d67d669",
   "metadata": {
    "id": "cdc79ae8-33a9-4bf1-a471-496b3d67d669"
   },
   "source": [
    "## Operaciones Básicas\n",
    "\n",
    "#### Las operaciones aritméticas en arrays de NumPy se aplican elemento por elemento."
   ]
  },
  {
   "cell_type": "code",
   "execution_count": null,
   "id": "6615a77d-adbf-4259-9524-168e64822aab",
   "metadata": {
    "id": "6615a77d-adbf-4259-9524-168e64822aab",
    "outputId": "bc67eb9c-9de2-49ea-f484-6b51097f7074"
   },
   "outputs": [
    {
     "name": "stdout",
     "output_type": "stream",
     "text": [
      "Suma: [5 7 9]\n",
      "Resta: [-3 -3 -3]\n",
      "Multiplicación: [ 4 10 18]\n",
      "División: [0.25 0.4  0.5 ]\n"
     ]
    }
   ],
   "source": [
    "a = np.array([1, 2, 3])\n",
    "b = np.array([4, 5, 6])\n",
    "\n",
    "# Suma\n",
    "print(\"Suma:\", a + b)\n",
    "\n",
    "# Resta\n",
    "print(\"Resta:\", a - b)\n",
    "\n",
    "# Multiplicación\n",
    "print(\"Multiplicación:\", a * b)\n",
    "\n",
    "# División\n",
    "print(\"División:\", a / b)"
   ]
  },
  {
   "cell_type": "markdown",
   "id": "dc7062bb-4171-4bd8-9a31-7da225897585",
   "metadata": {
    "id": "dc7062bb-4171-4bd8-9a31-7da225897585"
   },
   "source": [
    "## Indexación y Slicing\n",
    "\n",
    "#### Puedes acceder a elementos y slices de manera similar a las listas de Python y dataframes de pandas"
   ]
  },
  {
   "cell_type": "markdown",
   "id": "346340bb-7387-41d2-9d14-8ed4121d51e6",
   "metadata": {},
   "source": [
    "![image](https://courses.spatialthoughts.com/images/python_foundation/pandas_axis.png)"
   ]
  },
  {
   "cell_type": "code",
   "execution_count": null,
   "id": "9324f7db-c15d-4718-be19-4e2e3250eb88",
   "metadata": {
    "id": "9324f7db-c15d-4718-be19-4e2e3250eb88",
    "outputId": "8dabf9e1-e6ee-4924-a236-2ee5cbf2bc3c"
   },
   "outputs": [
    {
     "name": "stdout",
     "output_type": "stream",
     "text": [
      "Elemento en (0, 1): 20\n",
      "Primera fila: [10 20 30]\n",
      "Segunda columna: [20 50]\n",
      "Subarray:\n",
      " [[20 30]\n",
      " [50 60]]\n"
     ]
    }
   ],
   "source": [
    "arr = np.array([[10, 20, 30], [40, 50, 60]])\n",
    "\n",
    "# Acceder a un elemento\n",
    "print(\"Elemento en (0, 1):\", arr[0, 1])\n",
    "\n",
    "# Acceder a una fila\n",
    "print(\"Primera fila:\", arr[0])\n",
    "\n",
    "# Acceder a una columna\n",
    "print(\"Segunda columna:\", arr[:, 1])\n",
    "\n",
    "# Slicing\n",
    "print(\"Subarray:\\n\", arr[0:2, 1:3])"
   ]
  },
  {
   "cell_type": "markdown",
   "id": "e153518f-8d5c-47e1-a05e-64517495ba38",
   "metadata": {
    "id": "e153518f-8d5c-47e1-a05e-64517495ba38"
   },
   "source": [
    "## Manipulación de Arrays\n",
    "\n",
    "#### Redimensionamiento\n",
    "Puedes cambiar la forma de un array sin modificar sus datos con reshape()"
   ]
  },
  {
   "cell_type": "code",
   "execution_count": null,
   "id": "3c20372b-9f59-4a26-b608-da17414305b0",
   "metadata": {
    "id": "3c20372b-9f59-4a26-b608-da17414305b0",
    "outputId": "561fe10e-58eb-46ba-f2e7-b9485f295abd"
   },
   "outputs": [
    {
     "name": "stdout",
     "output_type": "stream",
     "text": [
      "Array original: [ 0  1  2  3  4  5  6  7  8  9 10 11]\n",
      "Array redimensionado:\n",
      " [[ 0  1  2  3]\n",
      " [ 4  5  6  7]\n",
      " [ 8  9 10 11]]\n"
     ]
    }
   ],
   "source": [
    "arr = np.arange(12)\n",
    "print(\"Array original:\", arr)\n",
    "\n",
    "# Redimensionar a 3 filas y 4 columnas\n",
    "arr_reshaped = arr.reshape(3, 4)\n",
    "print(\"Array redimensionado:\\n\", arr_reshaped)"
   ]
  },
  {
   "cell_type": "markdown",
   "id": "ae10653f-dd3b-4283-9c0a-9107f09b0c68",
   "metadata": {
    "id": "ae10653f-dd3b-4283-9c0a-9107f09b0c68"
   },
   "source": [
    "## Concatenación y Apilamiento\n",
    "\n",
    "#### Puedes unir arrays usando funciones como concatenate(), vstack(), y hstack()."
   ]
  },
  {
   "cell_type": "code",
   "execution_count": null,
   "id": "36b5c51f-b81d-4b61-a2bc-01cf64231b24",
   "metadata": {
    "id": "36b5c51f-b81d-4b61-a2bc-01cf64231b24",
    "outputId": "80543a54-2c62-46e5-da2d-55c6a80296c5"
   },
   "outputs": [
    {
     "name": "stdout",
     "output_type": "stream",
     "text": [
      "Concatenación vertical:\n",
      " [[1 2]\n",
      " [3 4]\n",
      " [5 6]]\n",
      "Concatenación horizontal:\n",
      " [[1 2 5]\n",
      " [3 4 6]]\n"
     ]
    }
   ],
   "source": [
    "a = np.array([[1, 2], [3, 4]])\n",
    "b = np.array([[5, 6]])\n",
    "\n",
    "# Concatenar verticalmente\n",
    "print(\"Concatenación vertical:\\n\", np.vstack((a, b)))\n",
    "\n",
    "# Concatenar horizontalmente\n",
    "print(\"Concatenación horizontal:\\n\", np.hstack((a, b.T)))"
   ]
  },
  {
   "cell_type": "markdown",
   "id": "1ada43c7-ee4c-47e6-bd37-e4502b9dc20a",
   "metadata": {
    "id": "1ada43c7-ee4c-47e6-bd37-e4502b9dc20a"
   },
   "source": [
    "## Funciones Universales (ufuncs)\n",
    "\n",
    "#### Las ufuncs son funciones que se aplican elemento por elemento a los arrays."
   ]
  },
  {
   "cell_type": "code",
   "execution_count": null,
   "id": "47f7a77d-4e1e-4b37-bd53-5716773abd42",
   "metadata": {
    "id": "47f7a77d-4e1e-4b37-bd53-5716773abd42",
    "outputId": "e782b3da-d714-470b-97d1-4270b650dab7"
   },
   "outputs": [
    {
     "name": "stdout",
     "output_type": "stream",
     "text": [
      "Seno: [0.0000000e+00 1.0000000e+00 1.2246468e-16]\n",
      "Coseno: [ 1.000000e+00  6.123234e-17 -1.000000e+00]\n"
     ]
    }
   ],
   "source": [
    "arr = np.array([0, np.pi / 2, np.pi])\n",
    "\n",
    "# Funciones trigonométricas\n",
    "print(\"Seno:\", np.sin(arr))\n",
    "print(\"Coseno:\", np.cos(arr))"
   ]
  },
  {
   "cell_type": "markdown",
   "id": "71c50cd2-bb55-4fa3-9458-e3dc2d2763e4",
   "metadata": {
    "id": "71c50cd2-bb55-4fa3-9458-e3dc2d2763e4"
   },
   "source": [
    "## Operaciones Estadísticas\n",
    "#### Puedes calcular estadísticas básicas directamente en arrays."
   ]
  },
  {
   "cell_type": "code",
   "execution_count": null,
   "id": "3c7112d5-f8f1-4bcd-861a-52b364d7bf91",
   "metadata": {
    "id": "3c7112d5-f8f1-4bcd-861a-52b364d7bf91",
    "outputId": "57e2be2e-0988-4688-d1b7-c8fe733c23c0"
   },
   "outputs": [
    {
     "name": "stdout",
     "output_type": "stream",
     "text": [
      "Máximo: 6\n",
      "Mínimo: 1\n",
      "Suma: 21\n",
      "Media: 3.5\n",
      "Desviación estándar: 1.707825127659933\n"
     ]
    }
   ],
   "source": [
    "arr = np.array([[1, 2, 3], [4, 5, 6]])\n",
    "\n",
    "print(\"Máximo:\", arr.max())\n",
    "print(\"Mínimo:\", arr.min())\n",
    "print(\"Suma:\", arr.sum())\n",
    "print(\"Media:\", arr.mean())\n",
    "print(\"Desviación estándar:\", arr.std())"
   ]
  },
  {
   "cell_type": "markdown",
   "id": "39f85bea-ae1c-4d9a-aa46-03803b5075b1",
   "metadata": {
    "id": "39f85bea-ae1c-4d9a-aa46-03803b5075b1"
   },
   "source": [
    "También puedes especificar el eje (axis) para calcular estas estadísticas a lo largo de filas o columnas."
   ]
  },
  {
   "cell_type": "code",
   "execution_count": null,
   "id": "7e8f43e5-5552-461f-9bfd-c6c89d85248e",
   "metadata": {
    "id": "7e8f43e5-5552-461f-9bfd-c6c89d85248e",
    "outputId": "f320a01d-2dfd-4ada-d4dd-08d4041b8e08"
   },
   "outputs": [
    {
     "name": "stdout",
     "output_type": "stream",
     "text": [
      "Suma por columnas: [5 7 9]\n",
      "Suma por filas: [ 6 15]\n"
     ]
    }
   ],
   "source": [
    "# Suma por columnas\n",
    "print(\"Suma por columnas:\", arr.sum(axis=0))\n",
    "\n",
    "# Suma por filas\n",
    "print(\"Suma por filas:\", arr.sum(axis=1))"
   ]
  },
  {
   "cell_type": "markdown",
   "id": "b5834359-0287-4779-9452-92d38566a4fa",
   "metadata": {
    "id": "b5834359-0287-4779-9452-92d38566a4fa"
   },
   "source": [
    "## Máscaras y Filtros\n",
    "\n",
    "Puedes crear máscaras booleanas para filtrar datos."
   ]
  },
  {
   "cell_type": "code",
   "execution_count": null,
   "id": "21fe144b-c2eb-4873-b360-99f41888c394",
   "metadata": {
    "id": "21fe144b-c2eb-4873-b360-99f41888c394",
    "outputId": "ce721407-3465-4051-858b-cf09da2e8ca3"
   },
   "outputs": [
    {
     "name": "stdout",
     "output_type": "stream",
     "text": [
      "Máscara: [False False False  True  True]\n",
      "Valores mayores que 20: [25 30]\n"
     ]
    }
   ],
   "source": [
    "arr = np.array([10, 15, 20, 25, 30])\n",
    "\n",
    "# Máscara para valores mayores que 20\n",
    "mascara = arr > 20\n",
    "print(\"Máscara:\", mascara)\n",
    "\n",
    "# Filtrar el array\n",
    "print(\"Valores mayores que 20:\", arr[mascara])"
   ]
  },
  {
   "cell_type": "code",
   "execution_count": null,
   "id": "534c4e8f-9c04-41b3-8699-ffa3d10b7e1b",
   "metadata": {
    "id": "534c4e8f-9c04-41b3-8699-ffa3d10b7e1b",
    "outputId": "80fb1cfb-7e88-466b-f064-2419b15bb630"
   },
   "outputs": [
    {
     "name": "stdout",
     "output_type": "stream",
     "text": [
      "[[ 1  2  3]\n",
      " [ 4  5 -1]\n",
      " [-1 -1 -1]]\n"
     ]
    }
   ],
   "source": [
    "import numpy as np\n",
    "\n",
    "# Crear un array de ejemplo\n",
    "arr = np.array([[1, 2, 3],\n",
    "                [4, 5, 6],\n",
    "                [7, 8, 9]])\n",
    "\n",
    "# Crear una máscara booleana que seleccione los valores mayores que 5\n",
    "mask = arr > 5\n",
    "\n",
    "# Cambiar los valores enmascarados (mayores que 5) por un nuevo valor, digamos -1\n",
    "arr[mask] = -1\n",
    "\n",
    "# Mostrar el array modificado\n",
    "print(arr)\n"
   ]
  },
  {
   "cell_type": "code",
   "execution_count": null,
   "id": "1ed874b2-33c5-4fc8-94f0-f435947516fc",
   "metadata": {
    "id": "1ed874b2-33c5-4fc8-94f0-f435947516fc"
   },
   "outputs": [],
   "source": [
    "a = np.where(arr > 4, 17, arr)"
   ]
  },
  {
   "cell_type": "code",
   "execution_count": null,
   "id": "196c0e62-1d86-4731-a168-903ab92dce10",
   "metadata": {
    "id": "196c0e62-1d86-4731-a168-903ab92dce10",
    "outputId": "8b878c7f-5eca-4ce7-8a0f-73ba453e8d02"
   },
   "outputs": [
    {
     "data": {
      "text/plain": [
       "array([[ 1,  2,  3],\n",
       "       [ 4, 17, -1],\n",
       "       [-1, -1, -1]])"
      ]
     },
     "execution_count": 68,
     "metadata": {},
     "output_type": "execute_result"
    }
   ],
   "source": [
    "a"
   ]
  }
 ],
 "metadata": {
  "colab": {
   "provenance": []
  },
  "kernelspec": {
   "display_name": "Python 3 (ipykernel)",
   "language": "python",
   "name": "python3"
  },
  "language_info": {
   "codemirror_mode": {
    "name": "ipython",
    "version": 3
   },
   "file_extension": ".py",
   "mimetype": "text/x-python",
   "name": "python",
   "nbconvert_exporter": "python",
   "pygments_lexer": "ipython3",
   "version": "3.10.12"
  }
 },
 "nbformat": 4,
 "nbformat_minor": 5
}
