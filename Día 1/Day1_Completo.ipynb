{
 "cells": [
  {
   "attachments": {},
   "cell_type": "markdown",
   "id": "27b8c469",
   "metadata": {},
   "source": [
    "# Bienvenidos al curso de Análisis Espacial con Python"
   ]
  },
  {
   "attachments": {},
   "cell_type": "markdown",
   "id": "e37a2804",
   "metadata": {},
   "source": [
    "Así como la cabra tira al monte van mis pies en enhiesto caminar"
   ]
  },
  {
   "attachments": {},
   "cell_type": "markdown",
   "id": "f574de08",
   "metadata": {},
   "source": [
    "# Jugando con los Notebooks"
   ]
  },
  {
   "attachments": {},
   "cell_type": "markdown",
   "id": "ab43eaaa",
   "metadata": {},
   "source": [
    "Vamos a aprender como movernos por las celdas y como \"operar\" con ellas"
   ]
  },
  {
   "attachments": {},
   "cell_type": "markdown",
   "id": "51421c1d",
   "metadata": {},
   "source": [
    "Notad la diferencia entre el color verde y azul cuando seleccionamos una celda. La celda en verde está lista para introducir el código o el texto en ella. Mientras que cuando la celda está en azul podemos insertar nuevas celdas (\"a\" (above) o \"b\" (below)) o seleccionar varias celdas a la vez dejando presionado el shift mientras clickamos en las flechas de arriba o abajo.\n",
    "Recordad que para poner la selección en verde tan solo hay que clickar dentro del espacio para insertar el código mientras que para la selección azul hay que pinchar a la izquierda de la zona de código (\"In []\") \n",
    "\n",
    "Igualmente podemos alternar entre ambos modos con las teclas Esc y Enter.  \n",
    "Con las teclas M e Y cambiaremos el tipo de celda a Markdown y Código.\n",
    "Pulsar 2 veces la letra D borrara la celda.  \n",
    "Dejando el shift presionado podemos seleccionar varias celdas con los cursores arriba o abajo. Una vez tenemos varias celdas seleccionadas podemos unirla clickando shift + M  \n",
    "Con Control + Shift + - partiremos la celda en dos por donde tengamos el cursor\n"
   ]
  },
  {
   "cell_type": "code",
   "execution_count": null,
   "id": "ed70213a",
   "metadata": {
    "ExecuteTime": {
     "end_time": "2023-06-06T11:38:08.524808Z",
     "start_time": "2023-06-06T11:38:08.520349Z"
    }
   },
   "outputs": [],
   "source": [
    "print('Hello world')"
   ]
  },
  {
   "cell_type": "code",
   "execution_count": null,
   "id": "1ae0c7b5",
   "metadata": {
    "ExecuteTime": {
     "end_time": "2023-06-06T11:38:08.524808Z",
     "start_time": "2023-06-06T11:38:08.520349Z"
    }
   },
   "outputs": [],
   "source": [
    "#import time\n",
    "#time.sleep(10)\n",
    "print(\"Hello world again\")"
   ]
  },
  {
   "attachments": {},
   "cell_type": "markdown",
   "id": "f86b250f",
   "metadata": {},
   "source": [
    "Arriba hemos creado y ejecutado nuestras dos primeras celdas de código. Podemos probar a imprimir aquí el Zen de python"
   ]
  },
  {
   "cell_type": "code",
   "execution_count": null,
   "id": "bf064677",
   "metadata": {
    "ExecuteTime": {
     "end_time": "2023-06-06T11:38:14.869195Z",
     "start_time": "2023-06-06T11:38:14.863889Z"
    },
    "hide_input": false
   },
   "outputs": [],
   "source": [
    "import this"
   ]
  },
  {
   "attachments": {},
   "cell_type": "markdown",
   "id": "2d075266",
   "metadata": {},
   "source": [
    "![](https://imgs.xkcd.com/comics/python.png)"
   ]
  },
  {
   "attachments": {},
   "cell_type": "markdown",
   "id": "e6b9c019",
   "metadata": {},
   "source": [
    "## ¿Que son los notebooks?"
   ]
  },
  {
   "attachments": {},
   "cell_type": "markdown",
   "id": "daed262a",
   "metadata": {},
   "source": [
    "Los notebooks son cuadernos web intercativos para ejecutar código python basados en Javascript y CSS. \n",
    "Es posible aplicar estilos al texto como haríamos en el diseño de una página web. Por ejemplo \n",
    "<font color='red'>podemos cambiar el color del texto</font> o también la tipología a **negrita** o a *cursiva*. Por supuesto, también podemos ***combinar esto*** o ~~tachar algunas palabras~~ \n"
   ]
  },
  {
   "attachments": {},
   "cell_type": "markdown",
   "id": "a6aa2794",
   "metadata": {},
   "source": [
    "A veces puede ser útil crear listas de texto:\n",
    "\n",
    "1. Primer elemento\n",
    "2. Elemento 2  \n",
    "13. Tercer elemento\n",
    "\n",
    "* Primerito elemento\n",
    "  * Anidado 1\n",
    "  * Anidado 2\n",
    "    1. Let's try something\n",
    "    1. Type one again\n",
    "  \n",
    "* Segundito elemento\n",
    "- Otra vez primero\n",
    "    - Anidado "
   ]
  },
  {
   "attachments": {},
   "cell_type": "markdown",
   "id": "2118558f",
   "metadata": {},
   "source": [
    "Esta posibilidad de intercalar texto con código hace de los Notebooks un elemento muy didáctico. Pero además nos permiten la opción de incluir imágenes o vídeos tal y como lo haríamos en cualquier documento de Markdown"
   ]
  },
  {
   "attachments": {},
   "cell_type": "markdown",
   "id": "613e4f4e",
   "metadata": {},
   "source": [
    "![](https://cdn.memegenerator.es/imagenes/memes/full/21/4/21049581.jpg)"
   ]
  },
  {
   "attachments": {},
   "cell_type": "markdown",
   "id": "f9b6dabf",
   "metadata": {},
   "source": [
    "Inciso!! También podemos usar las celdas como calculadora ;P"
   ]
  },
  {
   "cell_type": "code",
   "execution_count": null,
   "id": "f7c5af9b",
   "metadata": {
    "ExecuteTime": {
     "end_time": "2023-06-06T11:38:23.501127Z",
     "start_time": "2023-06-06T11:38:23.493174Z"
    }
   },
   "outputs": [],
   "source": [
    "68/18 == (12/3 - 4/18)"
   ]
  },
  {
   "attachments": {},
   "cell_type": "markdown",
   "id": "4e515434",
   "metadata": {},
   "source": [
    "Flameshot Example"
   ]
  },
  {
   "attachments": {},
   "cell_type": "markdown",
   "id": "e00695c8",
   "metadata": {},
   "source": [
    "![Flameshot Example](https://i.imgur.com/Gd3z9cU.png)"
   ]
  },
  {
   "cell_type": "code",
   "execution_count": null,
   "id": "d3be8d9c",
   "metadata": {},
   "outputs": [],
   "source": [
    "%%HTML\n",
    "\n",
    "<iframe width=\"1000\" height=\"500\" src=\"https://www.youtube.com/embed/5L8iBoL9Xhw\" title=\"YouTube video player\" frameborder=\"0\" allow=\"accelerometer; autoplay; clipboard-write; encrypted-media; gyroscope; picture-in-picture; web-share\" allowfullscreen></iframe>"
   ]
  },
  {
   "attachments": {},
   "cell_type": "markdown",
   "id": "d2d0f9d9",
   "metadata": {},
   "source": [
    "Otra cosa que podemos hacer es ejecutar otros lenguajes de programación dentro de una celda utilizando las \"Magias\""
   ]
  },
  {
   "attachments": {},
   "cell_type": "markdown",
   "id": "7e0e4a4f",
   "metadata": {},
   "source": [
    "También podemos crear tablas. Aquí una web estupenda para generarlas y solo tener que copiar el código generado: https://www.tablesgenerator.com/markdown_tables"
   ]
  },
  {
   "attachments": {},
   "cell_type": "markdown",
   "id": "24b186e9",
   "metadata": {},
   "source": [
    "| Nombre            | Apellido | Nota curso Python | Faltas de Asistencia | Email |\n",
    "|-------------------|----------|-------------------|----------------------|-------|\n",
    "| David             | Aragonés | 8                 |                      |       |\n",
    "| Gabriela Patricia | ???      | 4                 |                      |       |\n",
    "| Antonio Jesus     | López    | 7                 |                      |       |"
   ]
  },
  {
   "attachments": {},
   "cell_type": "markdown",
   "id": "3c34f468",
   "metadata": {},
   "source": [
    "Insertar fragmentos de código"
   ]
  },
  {
   "attachments": {},
   "cell_type": "markdown",
   "id": "58fce195",
   "metadata": {},
   "source": [
    "```python\n",
    "print('Hello world!')\n",
    "```"
   ]
  },
  {
   "attachments": {},
   "cell_type": "markdown",
   "id": "a720bde9",
   "metadata": {},
   "source": [
    "```java\n",
    "\n",
    "class HelloWorld {\n",
    "    public static void main(String[] args) {\n",
    "        System.out.println(\"Hello, World!\"); \n",
    "    }\n",
    "}\n",
    "```"
   ]
  },
  {
   "attachments": {},
   "cell_type": "markdown",
   "id": "0b731ed4",
   "metadata": {},
   "source": [
    "```html\n",
    "\n",
    "<!DOCTYPE HTML>\n",
    "<html>\n",
    "\n",
    "<body>\n",
    "\n",
    "  <script>\n",
    "    alert( 'Hello, world!' );\n",
    "  </script>\n",
    "\n",
    "</body>\n",
    "\n",
    "</html>\n",
    "```"
   ]
  },
  {
   "attachments": {},
   "cell_type": "markdown",
   "id": "7b68ac79",
   "metadata": {},
   "source": [
    "Kernels: https://github.com/vatlab/SOS"
   ]
  },
  {
   "attachments": {},
   "cell_type": "markdown",
   "id": "0b249727",
   "metadata": {},
   "source": [
    "LaTex "
   ]
  },
  {
   "attachments": {},
   "cell_type": "markdown",
   "id": "1b248d56",
   "metadata": {
    "hide_input": false
   },
   "source": [
    "$$\n",
    "\\sin(-\\alpha)=-\\sin(\\alpha)\\\\\n",
    "\\arccos(x)=\\arcsin(u)\\\\\n",
    "\\log_n(n)=1\\\\\n",
    "\\tan(x) = \\frac{\\sin(x)}{\\cos(x)}\n",
    "$$"
   ]
  },
  {
   "attachments": {},
   "cell_type": "markdown",
   "id": "8b296953",
   "metadata": {},
   "source": [
    "$$\n",
    "sign(x) = \\left\\{\n",
    "    \\begin{array}\\\\\n",
    "        1 & \\mbox{if } \\ x \\in \\mathbf{N}^* \\\\\n",
    "        0 & \\mbox{if } \\ x = 0 \\\\\n",
    "        -1 & \\mbox{else.}\n",
    "    \\end{array}\n",
    "\\right.\n",
    "$$\n",
    "\n",
    "\\\\\n",
    "\n",
    "$$\n",
    " \\left.\n",
    "    \\begin{array} \\\\\n",
    "        \\alpha^2 = \\sqrt5 \\\\\n",
    "        \\alpha \\geq 0 \n",
    "    \\end{array}\n",
    "\\right \\}=\\alpha = 5 \n",
    "$$"
   ]
  },
  {
   "attachments": {},
   "cell_type": "markdown",
   "id": "6585052d",
   "metadata": {},
   "source": [
    "Simple integral:\n",
    "$$\\int_{a}^b f(x)dx$$\n",
    "\n",
    "Double integral:\n",
    "$$\\int_{a}^b\\int_{c}^d f(x,y)\\,dxdy$$\t\n",
    "\n",
    "Triple integral:\n",
    "$$\\iiint$$\t\n",
    "\n",
    "Quadruple integral:\n",
    "$$\\iiiint$$\t\n",
    "\n",
    "Multiple integral :\n",
    "$$\\idotsint$$\n",
    "\n",
    "Contour integral:\n",
    "$$\\oint$$\t"
   ]
  },
  {
   "attachments": {},
   "cell_type": "markdown",
   "id": "e7043f0e",
   "metadata": {},
   "source": [
    "# Magics"
   ]
  },
  {
   "cell_type": "code",
   "execution_count": null,
   "id": "618cd440",
   "metadata": {},
   "outputs": [],
   "source": [
    "%lsmagic"
   ]
  },
  {
   "attachments": {},
   "cell_type": "markdown",
   "id": "f762056d",
   "metadata": {},
   "source": [
    "Podemos consultar en que consiste cada una de ellas interrogándolas con \"?\""
   ]
  },
  {
   "cell_type": "code",
   "execution_count": null,
   "id": "72b1744a",
   "metadata": {},
   "outputs": [],
   "source": [
    "?autosave"
   ]
  },
  {
   "cell_type": "code",
   "execution_count": null,
   "id": "0f80df8a",
   "metadata": {
    "ExecuteTime": {
     "end_time": "2023-06-06T11:38:41.874642Z",
     "start_time": "2023-06-06T11:38:41.869366Z"
    }
   },
   "outputs": [],
   "source": [
    "autosave 60"
   ]
  },
  {
   "attachments": {},
   "cell_type": "markdown",
   "id": "60c93f75",
   "metadata": {},
   "source": [
    "Tiempo de ejecución de cada celda"
   ]
  },
  {
   "cell_type": "code",
   "execution_count": null,
   "id": "926c5371",
   "metadata": {},
   "outputs": [],
   "source": [
    "%%timeit\n",
    "\n",
    "l = []\n",
    "\n",
    "for i in range(1000):\n",
    "    l.append(i)"
   ]
  },
  {
   "attachments": {},
   "cell_type": "markdown",
   "id": "652c1fef",
   "metadata": {},
   "source": [
    "Tiempo de ejecución de cada línea. Notad la diferencia entre celda y línea"
   ]
  },
  {
   "cell_type": "code",
   "execution_count": null,
   "id": "e2e214fa",
   "metadata": {},
   "outputs": [],
   "source": [
    "%timeit  l = [i for i in range(1000)]\n",
    "%timeit  l = [i for i in range(100000)]"
   ]
  },
  {
   "attachments": {},
   "cell_type": "markdown",
   "id": "4194d7bd",
   "metadata": {},
   "source": [
    "Nos puede ocurrir que queramos usar una variable ya creada en otro cuaderno. Podemos hacerlo usando la magia store"
   ]
  },
  {
   "cell_type": "code",
   "execution_count": null,
   "id": "a722f807",
   "metadata": {
    "ExecuteTime": {
     "end_time": "2023-06-06T11:53:03.089686Z",
     "start_time": "2023-06-06T11:53:03.082593Z"
    }
   },
   "outputs": [],
   "source": [
    "l = [i for i in range(1000)] "
   ]
  },
  {
   "cell_type": "code",
   "execution_count": null,
   "id": "d18fd920",
   "metadata": {
    "ExecuteTime": {
     "end_time": "2023-06-06T11:38:52.873345Z",
     "start_time": "2023-06-06T11:38:52.860658Z"
    },
    "scrolled": true
   },
   "outputs": [],
   "source": [
    "%store l"
   ]
  },
  {
   "attachments": {},
   "cell_type": "markdown",
   "id": "32ecaa8d",
   "metadata": {},
   "source": [
    "Por supuesto podemos guardar el contenido de la celda como un script de python"
   ]
  },
  {
   "cell_type": "code",
   "execution_count": null,
   "id": "b472e4ba",
   "metadata": {
    "ExecuteTime": {
     "end_time": "2023-06-06T11:53:43.265233Z",
     "start_time": "2023-06-06T11:53:43.256237Z"
    }
   },
   "outputs": [],
   "source": [
    "%%writefile lpatata.py\n",
    "\n",
    "l = []\n",
    "\n",
    "for i in range(100000):\n",
    "    \n",
    "    if i%2==0:\n",
    "        \n",
    "        l.append(i)\n",
    "        \n",
    "    else:\n",
    "        \n",
    "        l.append('patata')"
   ]
  },
  {
   "cell_type": "code",
   "execution_count": null,
   "id": "3bda29a7",
   "metadata": {},
   "outputs": [],
   "source": [
    "!ls"
   ]
  },
  {
   "attachments": {},
   "cell_type": "markdown",
   "id": "20f514ff",
   "metadata": {},
   "source": [
    "A la inversa, podemos abrir un script de python para ver o copiar su contenido"
   ]
  },
  {
   "cell_type": "code",
   "execution_count": null,
   "id": "bf5f47ea",
   "metadata": {},
   "outputs": [],
   "source": [
    "%pycat lpatata.py"
   ]
  },
  {
   "attachments": {},
   "cell_type": "markdown",
   "id": "9c75c428",
   "metadata": {},
   "source": [
    "# Widgets"
   ]
  },
  {
   "attachments": {},
   "cell_type": "markdown",
   "id": "fef01b6e",
   "metadata": {},
   "source": [
    "Los Widgets no son ni más ni menos, que elementos que añaden utilidades de GUI a nuestro Notebook"
   ]
  },
  {
   "cell_type": "code",
   "execution_count": null,
   "id": "d82f16da",
   "metadata": {},
   "outputs": [],
   "source": [
    "#Via Conda\n",
    "!conda install -c conda-forge ipywidgets"
   ]
  },
  {
   "cell_type": "code",
   "execution_count": null,
   "id": "5d5f289c",
   "metadata": {},
   "outputs": [],
   "source": [
    "#Via Pip\n",
    "!pip install ipywidgets\n",
    "!jupyter nbextension enable --py widgetsnbextension"
   ]
  },
  {
   "cell_type": "code",
   "execution_count": null,
   "id": "c3715614",
   "metadata": {
    "ExecuteTime": {
     "end_time": "2023-06-06T11:39:21.391691Z",
     "start_time": "2023-06-06T11:39:21.387205Z"
    }
   },
   "outputs": [],
   "source": [
    "import ipywidgets as widgets"
   ]
  },
  {
   "cell_type": "code",
   "execution_count": null,
   "id": "e58e7169",
   "metadata": {
    "ExecuteTime": {
     "end_time": "2023-06-06T11:39:21.763229Z",
     "start_time": "2023-06-06T11:39:21.754196Z"
    }
   },
   "outputs": [],
   "source": [
    "year = widgets.IntSlider(\n",
    "    min=2000,\n",
    "    max=2023,\n",
    "    step=1,\n",
    "    description='Slider:',\n",
    "    value=2012\n",
    ")"
   ]
  },
  {
   "cell_type": "code",
   "execution_count": null,
   "id": "583bc977",
   "metadata": {
    "ExecuteTime": {
     "end_time": "2023-06-06T11:39:26.028262Z",
     "start_time": "2023-06-06T11:39:26.017944Z"
    },
    "scrolled": true
   },
   "outputs": [],
   "source": [
    "year"
   ]
  },
  {
   "cell_type": "code",
   "execution_count": null,
   "id": "61fc0a2d",
   "metadata": {
    "ExecuteTime": {
     "end_time": "2023-06-06T11:39:26.455207Z",
     "start_time": "2023-06-06T11:39:26.448116Z"
    }
   },
   "outputs": [],
   "source": [
    "if year.value < 2020:\n",
    "    print('Viejuno')"
   ]
  },
  {
   "cell_type": "code",
   "execution_count": null,
   "id": "094ace42",
   "metadata": {},
   "outputs": [],
   "source": [
    "print(dir(widgets))"
   ]
  },
  {
   "cell_type": "code",
   "execution_count": null,
   "id": "44e8eaea",
   "metadata": {
    "ExecuteTime": {
     "end_time": "2023-06-06T11:39:32.837687Z",
     "start_time": "2023-06-06T11:39:32.822293Z"
    }
   },
   "outputs": [],
   "source": [
    "#from IPython.display import display\n",
    "\n",
    "btn = widgets.Button(description='Saludo')\n",
    "display(btn)\n",
    "count = 0\n",
    "def btn_eventhandler(obj):\n",
    "    global count\n",
    "    count+=1\n",
    "    print('Hello World {} from the {} button!'.format(count, obj.description))\n",
    "btn.on_click(btn_eventhandler)"
   ]
  },
  {
   "cell_type": "code",
   "execution_count": null,
   "id": "121220c1",
   "metadata": {
    "ExecuteTime": {
     "end_time": "2023-06-06T11:39:46.862692Z",
     "start_time": "2023-06-06T11:39:46.843599Z"
    }
   },
   "outputs": [],
   "source": [
    "widgets.Dropdown(\n",
    "    options=['S1', 'S2', 'S3'],\n",
    "    value='S2',\n",
    "    description='Sat:',\n",
    "    disabled=False,\n",
    ")"
   ]
  },
  {
   "attachments": {},
   "cell_type": "markdown",
   "id": "8b2c77d5",
   "metadata": {},
   "source": [
    "TODO está en internet:   \n",
    "    \n",
    "    https://ipywidgets.readthedocs.io/en/stable/examples/Widget%20List.html"
   ]
  },
  {
   "attachments": {},
   "cell_type": "markdown",
   "id": "d08d5e7e",
   "metadata": {},
   "source": [
    "# Extensions & Themes"
   ]
  },
  {
   "cell_type": "code",
   "execution_count": null,
   "id": "e62942e5",
   "metadata": {},
   "outputs": [],
   "source": [
    "conda install -c conda-forge jupyter_contrib_nbextensions"
   ]
  },
  {
   "cell_type": "code",
   "execution_count": null,
   "id": "f5701009",
   "metadata": {
    "ExecuteTime": {
     "end_time": "2023-06-06T11:48:46.832579Z",
     "start_time": "2023-06-06T11:48:45.223638Z"
    }
   },
   "outputs": [],
   "source": [
    "pip install jupyterthemes"
   ]
  },
  {
   "cell_type": "code",
   "execution_count": null,
   "id": "642e9e54",
   "metadata": {
    "ExecuteTime": {
     "end_time": "2023-06-06T11:49:40.387602Z",
     "start_time": "2023-06-06T11:49:40.015607Z"
    }
   },
   "outputs": [],
   "source": [
    "!jt -l"
   ]
  },
  {
   "cell_type": "code",
   "execution_count": null,
   "id": "d63de761",
   "metadata": {
    "ExecuteTime": {
     "end_time": "2023-06-06T11:51:04.831942Z",
     "start_time": "2023-06-06T11:51:04.034375Z"
    }
   },
   "outputs": [],
   "source": [
    "!jt -t solarizedd"
   ]
  },
  {
   "cell_type": "code",
   "execution_count": null,
   "id": "87d4e473",
   "metadata": {},
   "outputs": [],
   "source": [
    "!jt -r"
   ]
  },
  {
   "attachments": {},
   "cell_type": "markdown",
   "id": "47e5db2b",
   "metadata": {},
   "source": [
    "# Empezamos a pythonear!"
   ]
  },
  {
   "attachments": {},
   "cell_type": "markdown",
   "id": "17b0914e",
   "metadata": {},
   "source": [
    "Vamos a ver los tipos de datos y elementos que existen en python:\n",
    "    \n",
    "* String\n",
    "  - Variables\n",
    "  - Text slicing\n",
    "  - Count\n",
    "  - Methods Help Shift + Tab\n",
    "  - split\n",
    "  - join\n",
    "* Booleans\n",
    "* Condicionales If\n",
    "* Bucles\n",
    "  - While\n",
    "  - For\n",
    "* Int\n",
    "  - Varibales\n",
    "  - Maths\n",
    "  - Type\n",
    "* Floats\n",
    "* Listas\n",
    "* Sets\n",
    "* Tuplas\n",
    "* Diccioniarios\n",
    "* Funciones\n",
    "* Clases"
   ]
  },
  {
   "attachments": {},
   "cell_type": "markdown",
   "id": "b2086000",
   "metadata": {},
   "source": [
    "Antes de empezar podemos echar un vistazo a PEP8 code styling https://realpython.com/python-pep8/   \n",
    "\n",
    "\"PEP 8, sometimes spelled PEP8 or PEP-8, is a document that provides guidelines and best practices on how to write Python code. It was written in 2001 by Guido van Rossum, Barry Warsaw, and Nick Coghlan. The primary focus of PEP 8 is to improve the readability and consistency of Python code\""
   ]
  },
  {
   "attachments": {},
   "cell_type": "markdown",
   "id": "1dbe83bb",
   "metadata": {},
   "source": [
    "## Strings"
   ]
  },
  {
   "cell_type": "code",
   "execution_count": null,
   "id": "c7d11b3a",
   "metadata": {
    "ExecuteTime": {
     "end_time": "2023-06-07T09:32:44.675260Z",
     "start_time": "2023-06-07T09:32:44.664918Z"
    }
   },
   "outputs": [],
   "source": [
    "'Soy un string'"
   ]
  },
  {
   "cell_type": "code",
   "execution_count": null,
   "id": "6523d575",
   "metadata": {
    "ExecuteTime": {
     "end_time": "2023-06-07T09:15:28.302104Z",
     "start_time": "2023-06-07T09:15:28.297270Z"
    }
   },
   "outputs": [],
   "source": [
    "'Soy un string'[:3]"
   ]
  },
  {
   "cell_type": "code",
   "execution_count": null,
   "id": "8acdc2b3",
   "metadata": {
    "ExecuteTime": {
     "end_time": "2023-06-07T09:15:59.830910Z",
     "start_time": "2023-06-07T09:15:59.824911Z"
    },
    "scrolled": true
   },
   "outputs": [],
   "source": [
    "s = 'Soy un string'\n",
    "s[-6:]"
   ]
  },
  {
   "cell_type": "code",
   "execution_count": null,
   "id": "1bcb905f",
   "metadata": {},
   "outputs": [],
   "source": [
    "s[::-1]"
   ]
  },
  {
   "cell_type": "code",
   "execution_count": null,
   "id": "5df7ee89",
   "metadata": {},
   "outputs": [],
   "source": [
    "for i in reversed(s):\n",
    "    print(i)"
   ]
  },
  {
   "cell_type": "code",
   "execution_count": null,
   "id": "ad8cb1cd",
   "metadata": {},
   "outputs": [],
   "source": [
    "reversedstring='_'.join(reversed(s))\n",
    "reversedstring"
   ]
  },
  {
   "cell_type": "code",
   "execution_count": null,
   "id": "f3ad6b99",
   "metadata": {
    "ExecuteTime": {
     "end_time": "2023-06-07T09:24:43.262278Z",
     "start_time": "2023-06-07T09:24:43.252546Z"
    }
   },
   "outputs": [],
   "source": [
    "s.count('n')"
   ]
  },
  {
   "cell_type": "code",
   "execution_count": null,
   "id": "5eab5e03",
   "metadata": {
    "ExecuteTime": {
     "end_time": "2023-06-07T09:26:45.225273Z",
     "start_time": "2023-06-07T09:26:45.220608Z"
    }
   },
   "outputs": [],
   "source": [
    "s.upper().lower().count('i')"
   ]
  },
  {
   "cell_type": "code",
   "execution_count": null,
   "id": "95dcf2ce",
   "metadata": {},
   "outputs": [],
   "source": [
    "print(s*5)"
   ]
  },
  {
   "attachments": {},
   "cell_type": "markdown",
   "id": "91b00219",
   "metadata": {},
   "source": [
    "Vamos a ver como ver la ayuda de las funciones, para ello crearemos la función saludo"
   ]
  },
  {
   "cell_type": "code",
   "execution_count": null,
   "id": "72327198",
   "metadata": {
    "scrolled": true
   },
   "outputs": [],
   "source": [
    "# Ver todos los métodos y atributos de un objeto\n",
    "dir(s)"
   ]
  },
  {
   "cell_type": "code",
   "execution_count": null,
   "id": "0303ad5a",
   "metadata": {
    "ExecuteTime": {
     "end_time": "2023-06-07T09:16:36.472144Z",
     "start_time": "2023-06-07T09:16:36.465184Z"
    }
   },
   "outputs": [],
   "source": [
    "ls = s.split(' ')\n",
    "ls"
   ]
  },
  {
   "cell_type": "code",
   "execution_count": null,
   "id": "4623b4db",
   "metadata": {
    "ExecuteTime": {
     "end_time": "2023-06-07T09:18:37.357189Z",
     "start_time": "2023-06-07T09:18:37.353426Z"
    }
   },
   "outputs": [],
   "source": [
    "lss = '/'.join(ls)\n",
    "lss"
   ]
  },
  {
   "attachments": {},
   "cell_type": "markdown",
   "id": "df14a4e7",
   "metadata": {},
   "source": [
    "Otra cosa útil que podemos hacer es reempalzar cortes en el texto por variables"
   ]
  },
  {
   "cell_type": "code",
   "execution_count": null,
   "id": "d7078ea1",
   "metadata": {
    "ExecuteTime": {
     "end_time": "2023-06-07T12:15:38.009295Z",
     "start_time": "2023-06-07T12:15:38.004196Z"
    }
   },
   "outputs": [],
   "source": [
    "l = ['Cop', 'Fury', 'Tobe']\n",
    "'Mi perro se llama {} y mis **** gatos se llaman {} y {}'.format(l[0], l[1], l[2])"
   ]
  },
  {
   "attachments": {},
   "cell_type": "markdown",
   "id": "9405301f",
   "metadata": {},
   "source": [
    "Un tipo especial de string podrían ser los path o rutas a un archivo"
   ]
  },
  {
   "attachments": {},
   "cell_type": "markdown",
   "id": "237c678d",
   "metadata": {},
   "source": [
    "### System paths"
   ]
  },
  {
   "cell_type": "code",
   "execution_count": null,
   "id": "e0845d0e",
   "metadata": {},
   "outputs": [],
   "source": [
    "import os\n",
    "\n",
    "MyPath = os.getcwd()\n",
    "\n",
    "for i in os.listdir(MyPath):\n",
    "    print(i)\n",
    "    "
   ]
  },
  {
   "cell_type": "raw",
   "id": "ac185d48",
   "metadata": {},
   "source": [
    "os.path.join() Unir paths con nombres de archivos para acceder a la ruta completa\n",
    "os.path.split()[0] o [1] Separar un path entre el nombre de archivo y la ruta hasta él\n",
    "os.makedirs Crear directorios\n",
    "os.path.isdir/file comprobar la identidad del elemento"
   ]
  },
  {
   "attachments": {},
   "cell_type": "markdown",
   "id": "aac8c42b",
   "metadata": {
    "ExecuteTime": {
     "end_time": "2023-06-07T09:39:56.009082Z",
     "start_time": "2023-06-07T09:39:56.006462Z"
    }
   },
   "source": [
    "## Numbers and Booleans"
   ]
  },
  {
   "cell_type": "code",
   "execution_count": null,
   "id": "c9940a69",
   "metadata": {
    "ExecuteTime": {
     "end_time": "2023-06-07T09:39:20.804576Z",
     "start_time": "2023-06-07T09:39:20.800603Z"
    }
   },
   "outputs": [],
   "source": [
    "a = 4 + 4\n",
    "aa = 4 + 4.0"
   ]
  },
  {
   "cell_type": "code",
   "execution_count": null,
   "id": "be29ef84",
   "metadata": {
    "ExecuteTime": {
     "end_time": "2023-06-07T09:39:21.675278Z",
     "start_time": "2023-06-07T09:39:21.670986Z"
    }
   },
   "outputs": [],
   "source": [
    "a == aa"
   ]
  },
  {
   "cell_type": "code",
   "execution_count": null,
   "id": "ae2431d2",
   "metadata": {
    "ExecuteTime": {
     "end_time": "2023-06-07T09:25:39.086095Z",
     "start_time": "2023-06-07T09:25:39.075260Z"
    }
   },
   "outputs": [],
   "source": [
    "type(a), type(aa)"
   ]
  },
  {
   "cell_type": "code",
   "execution_count": null,
   "id": "37b326c1",
   "metadata": {
    "ExecuteTime": {
     "end_time": "2023-06-07T09:39:32.672734Z",
     "start_time": "2023-06-07T09:39:32.665974Z"
    }
   },
   "outputs": [],
   "source": [
    "print(a == aa)\n",
    "print(type(a) == type(aa))"
   ]
  },
  {
   "cell_type": "code",
   "execution_count": null,
   "id": "03f6a4d8",
   "metadata": {
    "ExecuteTime": {
     "end_time": "2023-06-07T09:11:23.082556Z",
     "start_time": "2023-06-07T09:11:23.076100Z"
    }
   },
   "outputs": [],
   "source": [
    "b = int(a)"
   ]
  },
  {
   "cell_type": "code",
   "execution_count": null,
   "id": "1060920b",
   "metadata": {
    "ExecuteTime": {
     "end_time": "2023-06-07T09:11:25.734391Z",
     "start_time": "2023-06-07T09:11:25.723804Z"
    }
   },
   "outputs": [],
   "source": [
    "b, a, aa"
   ]
  },
  {
   "attachments": {},
   "cell_type": "markdown",
   "id": "ac128c90",
   "metadata": {},
   "source": [
    "Por supuesto, a través de otras librerías específicas podemos hacer muchísimas más cosas"
   ]
  },
  {
   "cell_type": "code",
   "execution_count": null,
   "id": "addbf5b6",
   "metadata": {},
   "outputs": [],
   "source": [
    "import math\n",
    "print(math.exp(5))"
   ]
  },
  {
   "cell_type": "code",
   "execution_count": null,
   "id": "7a160feb",
   "metadata": {},
   "outputs": [],
   "source": [
    "math.exp?"
   ]
  },
  {
   "cell_type": "code",
   "execution_count": null,
   "id": "c41df523",
   "metadata": {},
   "outputs": [],
   "source": [
    "round(math.pi, 2)"
   ]
  },
  {
   "cell_type": "code",
   "execution_count": null,
   "id": "835c6e40",
   "metadata": {},
   "outputs": [],
   "source": [
    "pi = round(math.pi, 5)\n",
    "math.floor(pi), math.ceil(pi)"
   ]
  },
  {
   "attachments": {},
   "cell_type": "markdown",
   "id": "14d10e18",
   "metadata": {},
   "source": [
    "## Listas, Tuples, Sets & Dicts"
   ]
  },
  {
   "cell_type": "code",
   "execution_count": null,
   "id": "4c6bd1e4",
   "metadata": {},
   "outputs": [],
   "source": [
    "l = [1,2,3]\n",
    "t = (1,2,3)\n",
    "s = {1,2,3}\n",
    "d = {'Primero': 1, 'Segundo': 2, 'Tercero': 3}"
   ]
  },
  {
   "cell_type": "code",
   "execution_count": null,
   "id": "d50085d6",
   "metadata": {},
   "outputs": [],
   "source": [
    "l[1] = 10\n",
    "l"
   ]
  },
  {
   "cell_type": "code",
   "execution_count": null,
   "id": "3ed443dc",
   "metadata": {},
   "outputs": [],
   "source": [
    "l.append(1)\n",
    "l = sorted(l)#[3:5]\n",
    "l"
   ]
  },
  {
   "cell_type": "code",
   "execution_count": null,
   "id": "a934172b",
   "metadata": {},
   "outputs": [],
   "source": [
    "l.pop(-1)\n",
    "l"
   ]
  },
  {
   "cell_type": "code",
   "execution_count": null,
   "id": "e6f140eb",
   "metadata": {},
   "outputs": [],
   "source": [
    "l.append(10)\n",
    "l"
   ]
  },
  {
   "cell_type": "code",
   "execution_count": null,
   "id": "e30f852c",
   "metadata": {},
   "outputs": [],
   "source": [
    "del(l[-1])\n",
    "l"
   ]
  },
  {
   "cell_type": "code",
   "execution_count": null,
   "id": "3e2cfd51",
   "metadata": {},
   "outputs": [],
   "source": [
    "l.insert(4, 10)\n",
    "l"
   ]
  },
  {
   "cell_type": "code",
   "execution_count": null,
   "id": "e11a8872",
   "metadata": {},
   "outputs": [],
   "source": [
    "s[1]"
   ]
  },
  {
   "cell_type": "code",
   "execution_count": null,
   "id": "cb087a56",
   "metadata": {},
   "outputs": [],
   "source": [
    "d[1] = 5\n",
    "d"
   ]
  },
  {
   "cell_type": "code",
   "execution_count": null,
   "id": "ca57a5dd",
   "metadata": {},
   "outputs": [],
   "source": [
    "d.pop(1)\n",
    "d\n",
    "#del(d[1])"
   ]
  },
  {
   "cell_type": "code",
   "execution_count": null,
   "id": "79a4685a",
   "metadata": {},
   "outputs": [],
   "source": [
    "s.add(40)\n",
    "s.add(20)\n",
    "print(sorted(s))"
   ]
  },
  {
   "cell_type": "code",
   "execution_count": null,
   "id": "700e3fa8",
   "metadata": {},
   "outputs": [],
   "source": [
    "s.remove(40)\n",
    "s"
   ]
  },
  {
   "cell_type": "code",
   "execution_count": null,
   "id": "3aeba0c3",
   "metadata": {
    "scrolled": true
   },
   "outputs": [],
   "source": [
    "t[1] = 10"
   ]
  },
  {
   "cell_type": "code",
   "execution_count": null,
   "id": "9cd59202",
   "metadata": {
    "scrolled": false
   },
   "outputs": [],
   "source": [
    "t.append(10)"
   ]
  },
  {
   "cell_type": "code",
   "execution_count": null,
   "id": "37a1b742",
   "metadata": {},
   "outputs": [],
   "source": [
    "t.add(10)"
   ]
  },
  {
   "cell_type": "code",
   "execution_count": null,
   "id": "9361432e",
   "metadata": {},
   "outputs": [],
   "source": [
    "t2 = (15, 25, 5)\n",
    "t3 = t + t2\n",
    "t3"
   ]
  },
  {
   "cell_type": "code",
   "execution_count": null,
   "id": "bdc3a446",
   "metadata": {},
   "outputs": [],
   "source": [
    "tt = t3.remove(15)\n",
    "print(tt)"
   ]
  },
  {
   "cell_type": "code",
   "execution_count": null,
   "id": "d842a726",
   "metadata": {},
   "outputs": [],
   "source": [
    "for k, v in d.items():\n",
    "    print(k, v)"
   ]
  },
  {
   "cell_type": "code",
   "execution_count": null,
   "id": "2059fdf1",
   "metadata": {},
   "outputs": [],
   "source": [
    "a = list(d.keys())\n",
    "a"
   ]
  },
  {
   "cell_type": "code",
   "execution_count": null,
   "id": "e6827697",
   "metadata": {},
   "outputs": [],
   "source": [
    "l1 = [1, 2, 3]\n",
    "l2 = ['Hola', 'Mundo', 'Patata']\n",
    "l3 = dict(zip(l1, l2))\n",
    "l3"
   ]
  },
  {
   "cell_type": "code",
   "execution_count": null,
   "id": "22f1c673",
   "metadata": {
    "scrolled": true
   },
   "outputs": [],
   "source": [
    "print(1 in l, 5 in s)\n",
    "print(len(s))"
   ]
  },
  {
   "cell_type": "code",
   "execution_count": null,
   "id": "216fc8b6",
   "metadata": {},
   "outputs": [],
   "source": [
    "nl = ['hola', 'Mundo', 'Patata']\n",
    "for n, e in enumerate(nl):\n",
    "    print(n, e)"
   ]
  },
  {
   "cell_type": "code",
   "execution_count": null,
   "id": "3207ece6",
   "metadata": {},
   "outputs": [],
   "source": [
    "nd = {}\n",
    "\n",
    "for n,e in enumerate(l1):\n",
    "    nd[e] = l2[n]\n",
    "\n",
    "nd"
   ]
  },
  {
   "cell_type": "code",
   "execution_count": null,
   "id": "85bcfdaa",
   "metadata": {},
   "outputs": [],
   "source": [
    "nnd = {l1[i]: l2[i] for i in range(len(l1))}\n",
    "nnd"
   ]
  },
  {
   "attachments": {},
   "cell_type": "markdown",
   "id": "6f8681f7",
   "metadata": {},
   "source": [
    "Podemos hacer desde las operaciones más sencillas hasta las más complejas importando librerías como Numpy"
   ]
  },
  {
   "attachments": {},
   "cell_type": "markdown",
   "id": "874a44a1",
   "metadata": {},
   "source": [
    "## Bucles While y For"
   ]
  },
  {
   "cell_type": "code",
   "execution_count": null,
   "id": "29ac3986",
   "metadata": {
    "scrolled": true
   },
   "outputs": [],
   "source": [
    "c = 0\n",
    "while c < 10:\n",
    "    c += 1\n",
    "    print('Patata')"
   ]
  },
  {
   "cell_type": "code",
   "execution_count": null,
   "id": "ad384ccd",
   "metadata": {},
   "outputs": [],
   "source": [
    "while True:\n",
    "    print('Oh, how I love python')"
   ]
  },
  {
   "cell_type": "code",
   "execution_count": null,
   "id": "053add18",
   "metadata": {
    "scrolled": true
   },
   "outputs": [],
   "source": [
    "for i in range(10):\n",
    "    print(i**25)"
   ]
  },
  {
   "cell_type": "code",
   "execution_count": null,
   "id": "1d7628cc",
   "metadata": {},
   "outputs": [],
   "source": [
    "for i in s:\n",
    "    print(i)"
   ]
  },
  {
   "cell_type": "code",
   "execution_count": null,
   "id": "7e57e0d0",
   "metadata": {
    "hide_input": false
   },
   "outputs": [],
   "source": [
    "for i in range(len(s)):\n",
    "    print('Patata')"
   ]
  },
  {
   "attachments": {},
   "cell_type": "markdown",
   "id": "baef0953",
   "metadata": {},
   "source": [
    "Una operación especial es el Modulo o resta de la división"
   ]
  },
  {
   "attachments": {},
   "cell_type": "markdown",
   "id": "3db94907",
   "metadata": {},
   "source": [
    "## Condicionales"
   ]
  },
  {
   "attachments": {},
   "cell_type": "markdown",
   "id": "bcf174d3",
   "metadata": {},
   "source": [
    "Controla el flujo en función de as condiciones que predeterminemos"
   ]
  },
  {
   "cell_type": "code",
   "execution_count": null,
   "id": "b4402a1c",
   "metadata": {},
   "outputs": [],
   "source": [
    "for i in range(11):\n",
    "    if i%2 == 0:\n",
    "        print('par')\n",
    "    else:\n",
    "        print('impar')"
   ]
  },
  {
   "cell_type": "code",
   "execution_count": null,
   "id": "fc284ee5",
   "metadata": {},
   "outputs": [],
   "source": [
    "for i in range(11):\n",
    "    if i < 1:\n",
    "        print('el número es 0')\n",
    "    elif (i >= 1) and (i < 10):\n",
    "        print('el número es', i)\n",
    "    else:\n",
    "        print('el número es 10') "
   ]
  },
  {
   "cell_type": "code",
   "execution_count": null,
   "id": "d7da46d4",
   "metadata": {},
   "outputs": [],
   "source": [
    "for i in range(11):\n",
    "    if i < 1:\n",
    "        print('el número es 0')\n",
    "    elif (i >= 1) and (i < 10):\n",
    "        print('el número es', i)\n",
    "    else:\n",
    "        print('el número es 10') "
   ]
  },
  {
   "cell_type": "code",
   "execution_count": null,
   "id": "6da531cd",
   "metadata": {},
   "outputs": [],
   "source": [
    "for i in range(11):\n",
    "    if i < 1:\n",
    "        print('el número es 0')\n",
    "    elif (i >= 1) and (i < 10):\n",
    "        if i%2 == 0:\n",
    "            print('el número es', i, 'y es un número par')\n",
    "        else:\n",
    "            print('el número es', i, 'y es un número impar')\n",
    "    else:\n",
    "        print('el número es 10') "
   ]
  },
  {
   "attachments": {},
   "cell_type": "markdown",
   "id": "f4dc9eae",
   "metadata": {},
   "source": [
    "## Funciones"
   ]
  },
  {
   "cell_type": "code",
   "execution_count": null,
   "id": "65bc5d2f",
   "metadata": {},
   "outputs": [],
   "source": [
    "# Hacerlo al llegar a las funciones\n",
    "\n",
    "def saludo(nombre):\n",
    "    \n",
    "    \"\"\"Función para saludar a alguien\n",
    "\n",
    "        Args:\n",
    "            nombre->String\n",
    "        Returns:\n",
    "            Hello + Nombre\n",
    "        \"\"\"\n",
    "    if nombre == 'Diego':\n",
    "        print('Wow, que nombre tan bonito!')\n",
    "    else:\n",
    "        print(nombre, 'está ejecutando la función')\n",
    "        \n",
    "    return 'Hello ' + nombre"
   ]
  },
  {
   "cell_type": "code",
   "execution_count": null,
   "id": "9e00c677",
   "metadata": {},
   "outputs": [],
   "source": [
    "saludo('Juan')"
   ]
  },
  {
   "attachments": {},
   "cell_type": "markdown",
   "id": "c122cfd5",
   "metadata": {},
   "source": [
    "## Variables Globales vs No Globales"
   ]
  },
  {
   "cell_type": "code",
   "execution_count": null,
   "id": "378f3bbb",
   "metadata": {},
   "outputs": [],
   "source": [
    "x = \"awesome\"\n",
    "\n",
    "def myfunc():\n",
    "    x = \"fantastic\"\n",
    "    print(\"Python is \" + x)\n",
    "\n",
    "myfunc()\n",
    "\n",
    "print(\"Python is \" + x)\n"
   ]
  },
  {
   "cell_type": "code",
   "execution_count": null,
   "id": "45dda876",
   "metadata": {},
   "outputs": [],
   "source": [
    "x = \"awesome\"\n",
    "\n",
    "def myfunc():\n",
    "    global x\n",
    "    x = \"fantastic\"\n",
    "    print(\"Python is \" + x)\n",
    "\n",
    "myfunc()\n",
    "\n",
    "print(\"Python is \" + x)\n"
   ]
  },
  {
   "attachments": {},
   "cell_type": "markdown",
   "id": "cc6adbb4",
   "metadata": {},
   "source": [
    "## Manejo de errores"
   ]
  },
  {
   "cell_type": "code",
   "execution_count": null,
   "id": "c8ea8c09",
   "metadata": {
    "scrolled": true
   },
   "outputs": [],
   "source": [
    "lista = [1,2,3,4,5,'patata',6,7,8,9,10]\n",
    "pares = []\n",
    "nones = []\n",
    "\n",
    "for i in lista:\n",
    "    \n",
    "    if i%2 == 0:\n",
    "        pares.append(i)\n",
    "    else:\n",
    "        nones.append(i)\n",
    "    "
   ]
  },
  {
   "cell_type": "code",
   "execution_count": null,
   "id": "3743af41",
   "metadata": {},
   "outputs": [],
   "source": [
    "nones"
   ]
  },
  {
   "cell_type": "code",
   "execution_count": null,
   "id": "2d1f358e",
   "metadata": {},
   "outputs": [],
   "source": [
    "lista = [1,2,3,4,5,'patata',6,7,8,9,10]\n",
    "pares = []\n",
    "\n",
    "for i in lista:\n",
    "    try:\n",
    "        if i%2 == 0:\n",
    "            pares.append(i)\n",
    "    except Exception as e:\n",
    "        print(e)\n",
    "        continue"
   ]
  },
  {
   "cell_type": "code",
   "execution_count": null,
   "id": "87e9b562",
   "metadata": {},
   "outputs": [],
   "source": [
    "pares"
   ]
  },
  {
   "attachments": {},
   "cell_type": "markdown",
   "id": "ea7cf704",
   "metadata": {},
   "source": [
    "## Modulos"
   ]
  },
  {
   "attachments": {},
   "cell_type": "markdown",
   "id": "59183d11",
   "metadata": {},
   "source": [
    "Un modulo no es ni más ni menos que un archivo python con una serie de funciones o \n",
    "clases que pueden ser importadas directamente a nuestro código"
   ]
  },
  {
   "cell_type": "code",
   "execution_count": null,
   "id": "4a2845c7",
   "metadata": {},
   "outputs": [],
   "source": [
    "#%%writefile square_2.py\n",
    "\n",
    "def MySquare_3(num):\n",
    "    \n",
    "    \"\"\"Devuelve el número elevado a dos\"\"\"\n",
    "    \n",
    "    return num**2"
   ]
  },
  {
   "cell_type": "code",
   "execution_count": null,
   "id": "8be4ff67",
   "metadata": {},
   "outputs": [],
   "source": [
    "from square_2 import MySquare_2"
   ]
  },
  {
   "cell_type": "code",
   "execution_count": null,
   "id": "d09a8d48",
   "metadata": {},
   "outputs": [],
   "source": [
    "MySquare_3?"
   ]
  },
  {
   "cell_type": "code",
   "execution_count": null,
   "id": "b4dee935",
   "metadata": {},
   "outputs": [],
   "source": [
    "x = lambda a : a**2\n",
    "numbers = [i for i in range(10)]\n",
    "aa = map(lambda x : x**2, numbers)\n",
    "bb = map(MySquare_2, numbers)\n",
    "list(aa), list(bb)\n",
    "list(aa) == list(bb)"
   ]
  },
  {
   "attachments": {},
   "cell_type": "markdown",
   "id": "b9fd6db5",
   "metadata": {},
   "source": [
    "## Trabajando con archivos (read & write)"
   ]
  },
  {
   "cell_type": "code",
   "execution_count": null,
   "id": "21cfd76a",
   "metadata": {},
   "outputs": [],
   "source": [
    "f = open('myfile.txt', 'w')"
   ]
  },
  {
   "cell_type": "code",
   "execution_count": null,
   "id": "6fd37a91",
   "metadata": {},
   "outputs": [],
   "source": [
    "f.write('Lo terrible no es la calle sola\\nEl anden como un reto\\nLos trenes que perdimos\\n')\n",
    "f.write('Lo terrible no es ni siquiera el dolor\\n')\n",
    "f.close()"
   ]
  },
  {
   "cell_type": "code",
   "execution_count": null,
   "id": "a53e75ac",
   "metadata": {},
   "outputs": [],
   "source": [
    "f = open('myfile.txt', 'r')\n",
    "text = f.read()\n",
    "f.close()\n",
    "\n",
    "print(text)"
   ]
  },
  {
   "cell_type": "code",
   "execution_count": null,
   "id": "a26a0008",
   "metadata": {
    "scrolled": true
   },
   "outputs": [],
   "source": [
    "with open('myfile.txt') as file:\n",
    "    for line in file:\n",
    "        print(line.strip())\n",
    "    print('\\nCerrando el fichero...')\n",
    "    file.close()\n",
    "    print(file.closed)\n"
   ]
  },
  {
   "attachments": {},
   "cell_type": "markdown",
   "id": "bed47a50",
   "metadata": {},
   "source": [
    "## Tomando datos de entrada"
   ]
  },
  {
   "cell_type": "code",
   "execution_count": null,
   "id": "4c8e51a4",
   "metadata": {},
   "outputs": [],
   "source": [
    "nombre = input('¿Como te llamas?')"
   ]
  },
  {
   "cell_type": "code",
   "execution_count": null,
   "id": "04d75878",
   "metadata": {},
   "outputs": [],
   "source": [
    "def saludo():\n",
    "    \n",
    "    nombre = input('¿Como te llamas?')\n",
    "    return 'Hola ' + nombre\n",
    "\n",
    "saludo()"
   ]
  },
  {
   "attachments": {},
   "cell_type": "markdown",
   "id": "1c11d323",
   "metadata": {
    "ExecuteTime": {
     "end_time": "2023-06-07T09:43:26.722537Z",
     "start_time": "2023-06-07T09:43:26.715663Z"
    }
   },
   "source": [
    "# Ejercicio Rock, Paper, Scissors, Lizard, Spock"
   ]
  },
  {
   "attachments": {},
   "cell_type": "markdown",
   "id": "cb679404",
   "metadata": {},
   "source": [
    "Reglas:\n",
    "\n",
    "- Las tijeras cortan el papel.\n",
    "- El papel envuelve a la piedra.\n",
    "- La piedra aplasta al lagarto.\n",
    "- El lagarto envenena a Spock.\n",
    "- Spock corta a las tijeras.\n",
    "- Las tijeras decapitan al lagarto.\n",
    "- El lagarto se come el papel.\n",
    "- El papel drefuta a Spock.\n",
    "- Spock vaporiza la piedra.\n",
    "- Y, como siempre ha sido,La piedra quiebra las tijeras."
   ]
  },
  {
   "cell_type": "code",
   "execution_count": null,
   "id": "7f72ef38",
   "metadata": {
    "ExecuteTime": {
     "end_time": "2023-06-07T10:17:54.089372Z",
     "start_time": "2023-06-07T10:17:50.961204Z"
    }
   },
   "outputs": [],
   "source": [
    "# Rock Paper Scissors Lizard Spock\n",
    "\n",
    "# to import random function for using random.randrange\n",
    "import random\n",
    "\n",
    "# function to convert number to name\n",
    "def number_to_name(number):\n",
    "    if number == 0:\n",
    "        return \"Rock\"\n",
    "    elif number == 1:\n",
    "        return \"Spock\"\n",
    "    elif number == 2:\n",
    "        return \"Paper\"\n",
    "    elif number == 3:\n",
    "        return \"Lizard\"\n",
    "    elif number == 4:\n",
    "        return \"Scissors\"\n",
    "    else:\n",
    "        return \"Error\" \n",
    "\n",
    "# function to convert name to number\n",
    "def name_to_number(name):\n",
    "    if name == \"Rock\":\n",
    "        return 0\n",
    "    elif name == \"Spock\":\n",
    "        return 1\n",
    "    elif name == \"Paper\":\n",
    "        return 2\n",
    "    elif name == \"Lizard\":\n",
    "        return 3\n",
    "    elif name == \"Scissors\":\n",
    "        return 4\n",
    "    else:\n",
    "        print (name + \"is not a character in RPSLS\")\n",
    "\n",
    "\n",
    "# function which selects the winner\n",
    "def rpsls(guess): \n",
    "    \n",
    "    # convert name to player_number using name_to_number\n",
    "    player_number = name_to_number(guess)\n",
    "    \n",
    "    # compute random guess for comp_number using random.randrange()\n",
    "    comp_number = random.randrange(0,5)\n",
    "\n",
    "    # compute difference of player_number and comp_number modulo five\n",
    "    winner = (comp_number - player_number) % 5\n",
    "    winner_ = (comp_number - player_number)\n",
    "    print(winner, winner_)\n",
    "\n",
    "    # use if/elif/else to determine winner\n",
    "    if winner < 3:\n",
    "        player_win = False\n",
    "    else:\n",
    "        player_win = True\n",
    "    \n",
    "    # convert comp_number to name using number_to_name\n",
    "    comp_name = number_to_name(comp_number)\n",
    "    \n",
    "    # print results\n",
    "    print (\"Player chooses \" + guess)\n",
    "    print (\"Computer chooses \" + comp_name)\n",
    "    if player_win:\n",
    "        print (\"Player wins!\\n\")\n",
    "    elif comp_number == player_number:\n",
    "        print (\"Player and computer tie!\\n\")\n",
    "    else:\n",
    "        print (\"Computer wins!\\n\")\n",
    "\n",
    "    \n",
    "player_guess = input('Enter your choice.. Options: Rock, Spock, Paper, Lizard, Scissors')\n",
    "\n",
    "rpsls(str(player_guess))\n",
    "    \n",
    "    "
   ]
  },
  {
   "cell_type": "code",
   "execution_count": null,
   "id": "4583d7d1",
   "metadata": {
    "ExecuteTime": {
     "end_time": "2023-06-07T12:56:44.465812Z",
     "start_time": "2023-06-07T12:56:25.890962Z"
    }
   },
   "outputs": [],
   "source": [
    "# Rock Paper Scissors Lizard Spock\n",
    "\n",
    "# to import random function for using random.randrange\n",
    "import random\n",
    "\n",
    "#This way to use a dict\n",
    "d = {\"Rock\": 0, \"Spock\": 1, \"Paper\": 2, \"Lizard\": 3, \"Scissors\": 4}\n",
    "#player_guess = None\n",
    "# function to convert number to name\n",
    "def number_to_name(number):\n",
    "\n",
    "    #Comentamos todo porque lo vamos a hacer con un diccionario\n",
    "    \"\"\"if number == 0:\n",
    "        return \"Rock\"\n",
    "    elif number == 1:\n",
    "        return \"Spock\"\n",
    "    elif number == 2:\n",
    "        return \"Paper\"\n",
    "    elif number == 3:\n",
    "        return \"Lizard\"\n",
    "    elif number == 4:\n",
    "        return \"Scissors\"\n",
    "    else:\n",
    "        return \"Error\" \"\"\"\n",
    "    \n",
    "    for key, value in d.items():\n",
    "        if value == number:\n",
    "            return key\n",
    "\n",
    "# function to convert name to number\n",
    "def name_to_number(name):\n",
    "\n",
    "    #Comentamos todo porque lo vamos a hacer con un diccionario\n",
    "    \"\"\"if name == \"Rock\":\n",
    "        return 0\n",
    "    elif name == \"Spock\":\n",
    "        return 1\n",
    "    elif name == \"Paper\":\n",
    "        return 2\n",
    "    elif name == \"Lizard\":\n",
    "        return 3\n",
    "    elif name == \"Scissors\":\n",
    "        return 4\n",
    "    else:\n",
    "        print (name + \"is not a character in RPSLS\")\"\"\"\n",
    "    \n",
    "    return d[name]\n",
    "\n",
    "\n",
    "# function which selects the winner\n",
    "def rpsls(guess): \n",
    "    \n",
    "    #global player_guess \n",
    "    #player_guess = str(input('Enter your choice.. Options: Rock, Spock, Paper, Lizard, Scissors')).capitalize()\n",
    "    # convert name to player_number using name_to_number\n",
    "    player_number = name_to_number(guess)\n",
    "    \n",
    "    # compute random guess for comp_number using random.randrange()\n",
    "    comp_number = random.randrange(0,5)\n",
    "\n",
    "    # compute difference of player_number and comp_number modulo five\n",
    "    winner = (comp_number - player_number) % 5\n",
    "    winner_ = (comp_number - player_number)\n",
    "    print(winner, winner_)\n",
    "\n",
    "    # use if/elif/else to determine winner\n",
    "    if winner < 3:\n",
    "        player_win = False\n",
    "    else:\n",
    "        player_win = True\n",
    "    \n",
    "    # convert comp_number to name using number_to_name\n",
    "    comp_name = number_to_name(comp_number)\n",
    "    \n",
    "    # print results\n",
    "    print (\"Player chooses \" + guess)\n",
    "    print (\"Computer chooses \" + comp_name)\n",
    "    if player_win:\n",
    "        print (\"Player wins!\\n\")\n",
    "    elif comp_number == player_number:\n",
    "        print (\"Player and computer tie!\\n\")\n",
    "    else:\n",
    "        print (\"Computer wins!\\n\")\n",
    "\n",
    "\n",
    "def Selchoice():\n",
    "        \n",
    "    print('Do you want to play again? Y / N')\n",
    "    choice = str(input()).capitalize()\n",
    "\n",
    "    if choice == 'Y':\n",
    "        #rpsls(player_guess)\n",
    "        play()\n",
    "    elif choice not in ['Y', 'N']:\n",
    "        Selchoice()\n",
    "    else:\n",
    "        print('Goodbay looser') \n",
    "            \n",
    "            \n",
    "def play():\n",
    "    \n",
    "    player_guess = str(input('Enter your choice.. Options: Rock, Spock, Paper, Lizard, Scissors')).capitalize()\n",
    "    rpsls(player_guess)    \n",
    "    Selchoice()\n",
    "    \n",
    "    \n",
    "play()  \n",
    "    \n",
    "    "
   ]
  }
 ],
 "metadata": {
  "hide_input": false,
  "kernelspec": {
   "display_name": "Python 3",
   "language": "python",
   "name": "python3"
  },
  "language_info": {
   "codemirror_mode": {
    "name": "ipython",
    "version": 3
   },
   "file_extension": ".py",
   "mimetype": "text/x-python",
   "name": "python",
   "nbconvert_exporter": "python",
   "pygments_lexer": "ipython3",
   "version": "3.8.8"
  },
  "toc": {
   "base_numbering": 1,
   "nav_menu": {
    "height": "312px",
    "width": "364px"
   },
   "number_sections": true,
   "sideBar": true,
   "skip_h1_title": false,
   "title_cell": "Table of Contents",
   "title_sidebar": "Contents",
   "toc_cell": false,
   "toc_position": {
    "height": "calc(100% - 180px)",
    "left": "10px",
    "top": "150px",
    "width": "386px"
   },
   "toc_section_display": true,
   "toc_window_display": true
  },
  "varInspector": {
   "cols": {
    "lenName": 16,
    "lenType": 16,
    "lenVar": 40
   },
   "kernels_config": {
    "python": {
     "delete_cmd_postfix": "",
     "delete_cmd_prefix": "del ",
     "library": "var_list.py",
     "varRefreshCmd": "print(var_dic_list())"
    },
    "r": {
     "delete_cmd_postfix": ") ",
     "delete_cmd_prefix": "rm(",
     "library": "var_list.r",
     "varRefreshCmd": "cat(var_dic_list()) "
    }
   },
   "oldHeight": 269.85,
   "position": {
    "height": "497.85px",
    "left": "1598px",
    "right": "20px",
    "top": "121px",
    "width": "302px"
   },
   "types_to_exclude": [
    "module",
    "function",
    "builtin_function_or_method",
    "instance",
    "_Feature"
   ],
   "varInspector_section_display": "block",
   "window_display": false
  }
 },
 "nbformat": 4,
 "nbformat_minor": 5
}
