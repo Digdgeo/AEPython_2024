{
 "cells": [
  {
   "cell_type": "markdown",
   "id": "979ddc90",
   "metadata": {},
   "source": [
    "# Python Classes"
   ]
  },
  {
   "cell_type": "markdown",
   "id": "dfd2f314",
   "metadata": {},
   "source": [
    "Una clase en Python es una estructura de programación que permite definir un conjunto de métodos y atributos que describen un objeto o entidad. Las clases son un concepto fundamental en la programación orientada a objetos, que se utilizan para modelar entidades del mundo real o abstracto en un programa de computadora. (https://blog.hubspot.es/website/clases-python)"
   ]
  },
  {
   "cell_type": "markdown",
   "id": "822fc213",
   "metadata": {},
   "source": [
    "Vamos a usar la librería datetime. Es junto con la librería time una de las 2 principales librerías para trabajar con tiempo en python.\n",
    "\n",
    "https://realpython.com/python-time-module/   \n",
    "https://realpython.com/python-datetime/\n",
    "\n",
    "\n",
    "Otra librería muy interesante es Arrow:  \n",
    "https://arrow.readthedocs.io/en/latest/index.html\n"
   ]
  },
  {
   "cell_type": "code",
   "execution_count": null,
   "id": "9dda861c",
   "metadata": {},
   "outputs": [],
   "source": [
    "from datetime import datetime\n",
    "\n",
    "class Perro:\n",
    "\n",
    "    def __init__(self, nombre, raza, edad):\n",
    "        \n",
    "        \"\"\" Estamos creando una clase Perro para aprender sobre las clases en python.\n",
    "        La clase toma 3 entradas que se corresponden con el nombre, la raza y la edad del perro\"\"\"\n",
    "        \n",
    "        self.nombre = nombre\n",
    "        self.raza = raza\n",
    "        self.edad = edad\n",
    "        # HACERLO PRIMERO COMO LISTA Y LUEGO PASARLO A SET\n",
    "        self.horas_out = set()\n",
    "        \n",
    "        print('Hola soy {}, un {} de {} años de edad'.format(nombre, raza, edad))\n",
    "        \n",
    "    def ladrar(self):\n",
    "        \n",
    "        '''Función tonta que simplemente nos devuelve un ladrido'''\n",
    "        for i in range(10):\n",
    "            if i % 2 == 0:\n",
    "                print('Guau Guau!')\n",
    "            else:\n",
    "                print('Guau Guau Guau!')\n",
    "        \n",
    "    def insert_out_hours(self, *args):\n",
    "        \n",
    "        '''Función para insertar las horas del día a las que queremos sacar al perro'''\n",
    "        # VER LA DIFERENCIA DE INCLUIRLO EN EL INIT O EN LA FUNCIÓN\n",
    "        #horas = []\n",
    "        for i in args:\n",
    "            # PRIMERO COMO LISTA CON APPEND LUEGO COMO SET CON ADD\n",
    "            self.horas_out.add(datetime.strptime(i, \"%H:%M:%S\").time())\n",
    "            #horas.append(datetime.strptime(i, \"%H:%M\"))\n",
    "        \n",
    "        #PROBAR A VER LA DIFERENCIA CON HACER Y NO HACER UN SET\n",
    "        return self.horas_out\n",
    "        \n",
    "    def salir_pis(self):\n",
    "        \n",
    "        '''Una función un pelín más comleja que según la hora del día nos devuelve un mensaje sobre cuanto \n",
    "        tiempo para sacar al perro a hacer sus cositas'''\n",
    "        \n",
    "        l = []\n",
    "        nl = []\n",
    "        \n",
    "        now = datetime.now()#.replace(microsecond=0)\n",
    "        for i in self.horas_out:\n",
    "            l.append(datetime.combine(datetime.today().date(), i))#.replace(microsecond=0))\n",
    "            \n",
    "        for i in l:\n",
    "            if i > now:\n",
    "                # VER LA DIFERENCIA CON STRING\n",
    "                nl.append(str(i-now))\n",
    "                \n",
    "        # MEJOR CON UNA VARIABLE?\n",
    "        return 'Faltan {} para sacar a {}'.format(nl[0], self.nombre) \n",
    "            \n",
    "        #COMO HACER PARA QUE SI QUEDAN MENOS DE 10 MINUTOS EL MENSAJE SEA DIFERENTE?\n",
    "            \n"
   ]
  },
  {
   "cell_type": "code",
   "execution_count": null,
   "id": "5e101e65",
   "metadata": {
    "scrolled": true
   },
   "outputs": [],
   "source": [
    "miperro = Perro('Cop', 'Chucho', 3)"
   ]
  },
  {
   "cell_type": "code",
   "execution_count": null,
   "id": "df274774",
   "metadata": {},
   "outputs": [],
   "source": [
    "miperro.ladrar()"
   ]
  },
  {
   "cell_type": "code",
   "execution_count": null,
   "id": "798b1ad5",
   "metadata": {},
   "outputs": [],
   "source": [
    "miperro.insert_out_hours('09:00:00', '15:30:00', '21:30:00', '23:30:00', '13:00:00')"
   ]
  },
  {
   "cell_type": "code",
   "execution_count": null,
   "id": "24415518",
   "metadata": {},
   "outputs": [],
   "source": [
    "miperro.salir_pis()"
   ]
  },
  {
   "cell_type": "markdown",
   "id": "b3d3c73f",
   "metadata": {},
   "source": [
    "VER LA DIFERENCIA ENTRE LISTAS Y SETS"
   ]
  },
  {
   "cell_type": "markdown",
   "id": "1872f5d2",
   "metadata": {},
   "source": [
    "## HERENCIA"
   ]
  },
  {
   "cell_type": "markdown",
   "id": "90f677c6",
   "metadata": {},
   "source": [
    "Es posible heredera atributos y propiedas de una clase \"padre\" (O madre), que sería la super clase"
   ]
  },
  {
   "cell_type": "code",
   "execution_count": null,
   "id": "d3952acb",
   "metadata": {},
   "outputs": [],
   "source": [
    "class Animal:\n",
    "    \n",
    "    def __init__(self, color):\n",
    "        \n",
    "        self.color = color\n",
    "\n",
    "    \n",
    "    def moverse(self):\n",
    "        \n",
    "        print('Me estoy moviendo mucho, a ver si van a ser pulgas!!!')\n",
    "        \n",
    "    def dormir(self):\n",
    "        \n",
    "        print('uff, como me gusta dormir')\n"
   ]
  },
  {
   "cell_type": "code",
   "execution_count": null,
   "id": "0658a0a3",
   "metadata": {},
   "outputs": [],
   "source": [
    "from datetime import datetime\n",
    "\n",
    "class Perro2(Animal):\n",
    "\n",
    "    def __init__(self, color, nombre, raza, edad):\n",
    "        \n",
    "        \n",
    "        super().__init__(color)\n",
    "        \n",
    "        \n",
    "        \"\"\" Estamos creando una clase Perro para aprender sobre las clases en python.\n",
    "        La clase toma 3 entradas que se corresponden con el nombre, la raza y la edad del perro\"\"\"\n",
    "        \n",
    "        self.nombre = nombre\n",
    "        self.raza = raza\n",
    "        self.edad = edad\n",
    "        # HACERLO PRIMERO COMO LISTA Y LUEGO PASARLO A SET\n",
    "        self.horas_out = set()\n",
    "        \n",
    "        print('Hola soy {}, un {} de {} años de edad'.format(nombre, raza, edad))\n",
    "        \n",
    "    def ladrar(self):\n",
    "        \n",
    "        '''Función tonta que simplemente nos devuelve un ladrido'''\n",
    "        for i in range(10):\n",
    "            if i % 2 == 0:\n",
    "                print('Guau Guau!')\n",
    "            else:\n",
    "                print('Guau Guau Guau!')\n",
    "        \n",
    "    def insert_out_hours(self, *args):\n",
    "        \n",
    "        '''Función para insertar las horas del día a las que queremos sacar al perro'''\n",
    "        # VER LA DIFERENCIA DE INCLUIRLO EN EL INIT O EN LA FUNCIÓN\n",
    "        #horas = []\n",
    "        for i in args:\n",
    "            # PRIMERO COMO LISTA CON APPEND LUEGO COMO SET CON ADD\n",
    "            self.horas_out.add(datetime.strptime(i, \"%H:%M:%S\").time())\n",
    "            #horas.append(datetime.strptime(i, \"%H:%M\"))\n",
    "        \n",
    "        #PROBAR A VER LA DIFERENCIA CON HACER Y NO HACER UN SET\n",
    "        return self.horas_out\n",
    "        \n",
    "    def salir_pis(self):\n",
    "        \n",
    "        '''Una función un pelín más comleja que según la hora del día nos devuelve un mensaje sobre cuanto \n",
    "        tiempo para sacar al perro a hacer sus cositas'''\n",
    "        \n",
    "        l = []\n",
    "        nl = []\n",
    "        \n",
    "        now = datetime.now()#.replace(microsecond=0)\n",
    "        for i in self.horas_out:\n",
    "            l.append(datetime.combine(datetime.today().date(), i))#.replace(microsecond=0))\n",
    "            \n",
    "        for i in l:\n",
    "            if i > now:\n",
    "                # VER LA DIFERENCIA CON STRING\n",
    "                nl.append(str(i-now))\n",
    "                \n",
    "        # MEJOR CON UNA VARIABLE?\n",
    "        return 'Faltan {} para sacar a {}'.format(nl[0], self.nombre) \n",
    "            \n",
    "        #COMO HACER PARA QUE SI QUEDAN MENOS DE 10 MINUTOS EL MENSAJE SEA DIFERENTE?\n",
    "            \n"
   ]
  },
  {
   "cell_type": "code",
   "execution_count": null,
   "id": "4bbda7bf",
   "metadata": {},
   "outputs": [],
   "source": [
    "miperro2 = Perro2('Marrón', 'Cop', 'Chucho', 3)"
   ]
  },
  {
   "cell_type": "code",
   "execution_count": null,
   "id": "e520aa72",
   "metadata": {},
   "outputs": [],
   "source": [
    "miperro2.moverse()"
   ]
  }
 ],
 "metadata": {
  "hide_input": false,
  "kernelspec": {
   "display_name": "Python 3",
   "language": "python",
   "name": "python3"
  },
  "language_info": {
   "codemirror_mode": {
    "name": "ipython",
    "version": 3
   },
   "file_extension": ".py",
   "mimetype": "text/x-python",
   "name": "python",
   "nbconvert_exporter": "python",
   "pygments_lexer": "ipython3",
   "version": "3.8.8"
  },
  "toc": {
   "base_numbering": 1,
   "nav_menu": {},
   "number_sections": true,
   "sideBar": true,
   "skip_h1_title": false,
   "title_cell": "Table of Contents",
   "title_sidebar": "Contents",
   "toc_cell": false,
   "toc_position": {},
   "toc_section_display": true,
   "toc_window_display": false
  },
  "varInspector": {
   "cols": {
    "lenName": 16,
    "lenType": 16,
    "lenVar": 40
   },
   "kernels_config": {
    "python": {
     "delete_cmd_postfix": "",
     "delete_cmd_prefix": "del ",
     "library": "var_list.py",
     "varRefreshCmd": "print(var_dic_list())"
    },
    "r": {
     "delete_cmd_postfix": ") ",
     "delete_cmd_prefix": "rm(",
     "library": "var_list.r",
     "varRefreshCmd": "cat(var_dic_list()) "
    }
   },
   "types_to_exclude": [
    "module",
    "function",
    "builtin_function_or_method",
    "instance",
    "_Feature"
   ],
   "window_display": false
  }
 },
 "nbformat": 4,
 "nbformat_minor": 5
}
